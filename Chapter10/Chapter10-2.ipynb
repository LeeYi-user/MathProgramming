{
  "nbformat": 4,
  "nbformat_minor": 0,
  "metadata": {
    "accelerator": "GPU",
    "colab": {
      "name": "Chapter10-2.ipynb",
      "provenance": [],
      "toc_visible": true,
      "include_colab_link": true
    },
    "kernelspec": {
      "display_name": "Python 3",
      "language": "python",
      "name": "python3"
    },
    "language_info": {
      "codemirror_mode": {
        "name": "ipython",
        "version": 3
      },
      "file_extension": ".py",
      "mimetype": "text/x-python",
      "name": "python",
      "nbconvert_exporter": "python",
      "pygments_lexer": "ipython3",
      "version": "3.8.8"
    }
  },
  "cells": [
    {
      "cell_type": "markdown",
      "metadata": {
        "id": "view-in-github",
        "colab_type": "text"
      },
      "source": [
        "<a href=\"https://colab.research.google.com/github/ccwu0918/MathProgramming/blob/main/Chapter10/Chapter10-2.ipynb\" target=\"_parent\"><img src=\"https://colab.research.google.com/assets/colab-badge.svg\" alt=\"Open In Colab\"/></a>"
      ]
    },
    {
      "cell_type": "markdown",
      "metadata": {
        "id": "xeX9IesjVtYq"
      },
      "source": [
        "# 第10章 圖片、語言處理的深度學習全貌（5～7）\n",
        "從這節開始要學習圖像分割處理。\n",
        "\n",
        "若是在Google Colaboratory的環境下執行程式，請確定已將「硬體加速器」設定為「GPU」"
      ]
    },
    {
      "cell_type": "code",
      "metadata": {
        "id": "vbaHuGX7NVqT"
      },
      "source": [
        "#Colaboratory環境的設定\n",
        "from google.colab import drive\n",
        "drive.mount('/content/drive')\n",
        "%cd /content/drive/MyDrive/MathProgramming/Chapter10"
      ],
      "execution_count": null,
      "outputs": []
    },
    {
      "cell_type": "code",
      "metadata": {
        "id": "xQL-Lxqt-sH-"
      },
      "source": [
        "#函式庫的の設定\n",
        "!pip install -q -r ./requirements2.txt"
      ],
      "execution_count": null,
      "outputs": []
    },
    {
      "cell_type": "markdown",
      "metadata": {
        "id": "Fw_XOce6_JgY"
      },
      "source": [
        "## 10-6 試著利用Segnet執行圖像分割處理"
      ]
    },
    {
      "cell_type": "code",
      "metadata": {
        "id": "xpQLIs3VahWg"
      },
      "source": [
        "from tensorflow.keras.models import Model, Sequential\n",
        "from tensorflow.keras.layers import Activation, Conv2D, MaxPooling2D, UpSampling2D,ZeroPadding2D, Input, BatchNormalization, Dense, Reshape\n",
        "\n",
        "#建立SegNet Basic模型\n",
        "def segnet(n_classes, input_shape=(224,224,3)):\n",
        "\n",
        "    kernel = 3\n",
        "    pad = 1\n",
        "    pool_size = 2\n",
        "\n",
        "    model = Sequential()\n",
        "    model.add(Input(shape=input_shape))\n",
        "\n",
        "    model.add(ZeroPadding2D((pad, pad)))\n",
        "    model.add(Conv2D(64, (kernel, kernel), padding='valid'))\n",
        "    model.add(BatchNormalization())\n",
        "    model.add(Activation('relu'))\n",
        "\n",
        "    model.add(MaxPooling2D(pool_size=(pool_size, pool_size)))\n",
        "\n",
        "    model.add(ZeroPadding2D((pad, pad)))\n",
        "    model.add(Conv2D(128, (kernel, kernel), padding='valid'))\n",
        "    model.add(BatchNormalization())\n",
        "    model.add(Activation('relu'))\n",
        "\n",
        "    model.add(MaxPooling2D(pool_size=(pool_size, pool_size)))\n",
        "\n",
        "    model.add(ZeroPadding2D((pad, pad)))\n",
        "    model.add(Conv2D(256, (kernel, kernel), padding='valid'))\n",
        "    model.add(BatchNormalization())\n",
        "    model.add(Activation('relu'))\n",
        "    model.add(MaxPooling2D(pool_size=(pool_size, pool_size)))\n",
        "\n",
        "    model.add(ZeroPadding2D((1, 1)))\n",
        "    model.add(Conv2D(512, (3, 3), padding='valid'))\n",
        "    model.add(BatchNormalization())\n",
        "    model.add(Activation('relu'))\n",
        "\n",
        "    model.add(ZeroPadding2D((1, 1)))\n",
        "    model.add(Conv2D(512, (3, 3), padding='valid'))\n",
        "    model.add(BatchNormalization())\n",
        "\n",
        "    model.add(UpSampling2D((2, 2)))\n",
        "\n",
        "    model.add(ZeroPadding2D((1, 1)))\n",
        "    model.add(Conv2D(256, (3, 3), padding='valid'))\n",
        "    model.add(BatchNormalization())\n",
        "\n",
        "    model.add(UpSampling2D((2, 2)))\n",
        "\n",
        "    model.add(ZeroPadding2D((1, 1)))\n",
        "    model.add(Conv2D(128, (3, 3), padding='valid'))\n",
        "    model.add(BatchNormalization())\n",
        "\n",
        "    model.add(UpSampling2D((2, 2)))\n",
        "\n",
        "    model.add(ZeroPadding2D((1, 1)))\n",
        "    model.add(Conv2D(64, (3, 3), padding='valid'))\n",
        "    model.add(BatchNormalization())\n",
        "\n",
        "    model.add(Conv2D(n_classes, (1, 1), padding='valid'))\n",
        "    model.add(Reshape((input_shape[0] * input_shape[1], n_classes)))\n",
        "\n",
        "    model.add(Activation(\"softmax\"))\n",
        "    model.compile(optimizer=\"adadelta\", loss=\"categorical_crossentropy\", metrics=['acc'])\n",
        "\n",
        "    return model"
      ],
      "execution_count": null,
      "outputs": []
    },
    {
      "cell_type": "code",
      "metadata": {
        "id": "YSHicPxr-A2u"
      },
      "source": [
        "from PIL import Image\n",
        "\n",
        "Image.open(\"./VOCdevkit/VOC2007/JPEGImages/000793.jpg\")"
      ],
      "execution_count": null,
      "outputs": []
    },
    {
      "cell_type": "code",
      "metadata": {
        "id": "qYbkfcAGYG9R"
      },
      "source": [
        "label_image = Image.open(\"./VOCdevkit/VOC2007/SegmentationClass/000793.png\")\n",
        "label_image"
      ],
      "execution_count": null,
      "outputs": []
    },
    {
      "cell_type": "code",
      "metadata": {
        "id": "xd2A2cJHYRx6"
      },
      "source": [
        "import numpy as np\n",
        "label_image = np.array(label_image)\n",
        "\n",
        "#顯示第90行的標籤資料\n",
        "label_image[90]"
      ],
      "execution_count": null,
      "outputs": []
    },
    {
      "cell_type": "code",
      "metadata": {
        "id": "jGWlQCfGzIxx"
      },
      "source": [
        "from tensorflow.keras.utils import Sequence\n",
        "import numpy as np\n",
        "import math\n",
        "from PIL import Image\n",
        "\n",
        "#裁切圖片\n",
        "def crop_center(pil_img, crop_height, crop_width):\n",
        "    img_width, img_height = pil_img.size\n",
        "    return pil_img.crop(((img_width - crop_width) // 2,\n",
        "                         (img_height - crop_height) // 2,\n",
        "                         (img_width + crop_width) // 2,\n",
        "                         (img_height + crop_height) // 2))\n",
        "\n",
        "def normalized(img):\n",
        "  norm = img/255\n",
        "  return norm\n",
        "\n",
        "def one_hot(labels, data_shape, class_num):\n",
        "  x = np.zeros([data_shape[0],data_shape[1], class_num])\n",
        "  for i in range(data_shape[0]):\n",
        "      for j in range(data_shape[1]):\n",
        "        if labels[i][j]  == 0 or labels[i][j] == 255:\n",
        "          x[i,j,0] = 1\n",
        "        else:\n",
        "          x[i,j,labels[i][j]] = 1\n",
        "\n",
        "  return x"
      ],
      "execution_count": null,
      "outputs": []
    },
    {
      "cell_type": "code",
      "metadata": {
        "id": "RpjfboDmGVeY"
      },
      "source": [
        "#只載入學習所需的圖像資料量的類別\n",
        "class ImageDataSequence(Sequence):\n",
        "    def __init__(self, data_shape, class_num, image_file_name_list, batch_size):\n",
        "\n",
        "        self.file_name_list = image_file_name_list\n",
        "\n",
        "        self.image_file_name_list = [\"./VOCdevkit/VOC2007/JPEGImages/\"+image_path + \".jpg\" for image_path in self.file_name_list]\n",
        "        self.label_image_file_name_list = ['./VOCdevkit/VOC2007/SegmentationClass/' + image_path+ \".png\" for image_path in self.file_name_list]\n",
        "\n",
        "        self.length = len(self.file_name_list)\n",
        "        self.data_shape = data_shape\n",
        "        self.class_num = class_num\n",
        "        self.batch_size = batch_size\n",
        "\n",
        "    def __getitem__(self, idx):\n",
        "        images = []\n",
        "        label_images = []\n",
        "        for index in range(idx*self.batch_size, (idx+1)*self.batch_size):\n",
        "          img = Image.open(self.image_file_name_list[index])\n",
        "          img = crop_center(img,self.data_shape[0],self.data_shape[1]  )\n",
        "          img = normalized(np.array(img))\n",
        "          images.append(img)\n",
        "\n",
        "          label_img = Image.open(self.label_image_file_name_list[index])\n",
        "          label_img = crop_center(label_img, self.data_shape[0],self.data_shape[1])\n",
        "          label_img = one_hot(np.array(label_img), self.data_shape, self.class_num)\n",
        "          label_img = label_img.reshape(self.data_shape[0]*self.data_shape[1], self.class_num)\n",
        "          label_images.append(label_img)\n",
        "\n",
        "        return np.array(images), np.array(label_images)\n",
        "\n",
        "    def __len__(self):\n",
        "        return math.floor(len(self.file_name_list) / self.batch_size)\n"
      ],
      "execution_count": null,
      "outputs": []
    },
    {
      "cell_type": "markdown",
      "metadata": {
        "id": "kr1w8ePfv1QF"
      },
      "source": [
        "## 10-7評估圖像分割結果"
      ]
    },
    {
      "cell_type": "code",
      "metadata": {
        "id": "NkeoO-NDfUO3"
      },
      "source": [
        "train_file = open(\"./VOCdevkit/VOC2007/ImageSets/Segmentation/train.txt\")\n",
        "test_file = open(\"./VOCdevkit/VOC2007/ImageSets/Segmentation/val.txt\")\n",
        "train_file_names = train_file.read().split(\"\\n\")\n",
        "test_file_names = test_file.read().split(\"\\n\")\n",
        "\n",
        "train_file_names.pop(-1)\n",
        "test_file_names.pop(-1)\n",
        "\n",
        "#將50筆驗證專用資料用於驗證\n",
        "val_file_names = test_file_names[0:50]\n",
        "test_file_names = test_file_names[50:]\n",
        "\n",
        "\n",
        "input_shape =(400,400, 3)\n",
        "\n",
        "#0=non\n",
        "#1=aeroplane, 2=bicycle, 3=bird, 4=boat, 5=bottle, 6=bus, 7=car , 8=cat, 9=chair, 10=cow,\n",
        "#11=diningtable, 12=dog, 13=horse, 14=motorbike, 15=person, 16=potted plant, 17=sheep, 18=sofa, 19=train, 20=tv/monitor\n",
        "n_labels =  21\n",
        "\n",
        "\n",
        "#建立模型\n",
        "model = segnet(n_labels,input_shape=input_shape )\n",
        "\n",
        "#顯示模型構造\n",
        "model.summary()\n",
        "\n",
        "#建立載入資料所需的實體\n",
        "train_gen = ImageDataSequence(input_shape, n_labels, train_file_names, 8)\n",
        "val_gen = ImageDataSequence(input_shape, n_labels, val_file_names, 8)\n",
        "test_gen = ImageDataSequence(input_shape, n_labels, test_file_names, 8)"
      ],
      "execution_count": null,
      "outputs": []
    },
    {
      "cell_type": "code",
      "metadata": {
        "id": "uwY6MrhYfmQ9"
      },
      "source": [
        "\n",
        "#開始學習\n",
        "history = model.fit(\n",
        "    train_gen,\n",
        "    epochs=40,\n",
        "    steps_per_epoch=len(train_gen),\n",
        "    validation_data=val_gen,\n",
        "    verbose=1)"
      ],
      "execution_count": null,
      "outputs": []
    },
    {
      "cell_type": "code",
      "metadata": {
        "id": "DSijUJsNgHO3"
      },
      "source": [
        "import matplotlib.pyplot as plt\n",
        "\n",
        "fig, ax = plt.subplots(2,1)\n",
        "ax[0].plot(history.history['loss'], color='b', label=\"Training Loss\")\n",
        "ax[0].plot(history.history['val_loss'], color='g', label=\"Validation Loss\")\n",
        "legend = ax[0].legend()\n",
        "\n",
        "ax[1].plot(history.history['acc'], color='b', label=\"Training Accuracy\")\n",
        "ax[1].plot(history.history['val_acc'], color='g', label=\"Validation Accuracy\")\n",
        "legend = ax[1].legend()"
      ],
      "execution_count": null,
      "outputs": []
    },
    {
      "cell_type": "code",
      "metadata": {
        "id": "pH66eu9QxOIr"
      },
      "source": [
        "#由於學習很耗費時間，可執行下列的程式碼，直接儲存與載入模型的權重。\n",
        "#只要先儲存模型的權重，執行第8節以後的程式碼的時候，就能直接使用儲存的權重，模型也不需要重新學習。\n",
        "\n",
        "#儲存學習所得的權重\n",
        "#model.save_weights('./saved_models/model_segnet_weights')"
      ],
      "execution_count": null,
      "outputs": []
    },
    {
      "cell_type": "code",
      "metadata": {
        "id": "Kt0QIWfsrD2X"
      },
      "source": [
        "#載入權重\n",
        "#model = segnet(n_labels,input_shape=input_shape )\n",
        "#model.load_weights('./saved_models/model_segnet_weights')"
      ],
      "execution_count": null,
      "outputs": []
    },
    {
      "cell_type": "code",
      "metadata": {
        "id": "x5Sd0AxzkEqx"
      },
      "source": [
        "#利用學習完畢的模型執行圖像分割處理\n",
        "\n",
        "#載入圖像與執行事前處理\n",
        "tmp_name = \"./VOCdevkit/VOC2007/JPEGImages/\" + test_file_names[2] + \".jpg\"\n",
        "img = Image.open(tmp_name)\n",
        "img = crop_center(img,input_shape[0],input_shape[1]  )\n",
        "img = normalized(np.array(img))\n",
        "\n",
        "#顯示原始圖像\n",
        "plt.imshow(img)\n",
        "plt.show()\n",
        "\n",
        "#開始預測\n",
        "result = model.predict(np.array([img]))\n",
        "\n",
        "#整理輸出結果的陣列\n",
        "_result = result.reshape((400,400,21)).argmax(axis=2)\n",
        "\n",
        "#顯示圖像分割結果\n",
        "plt.imshow(_result)\n",
        "plt.show()"
      ],
      "execution_count": null,
      "outputs": []
    }
  ]
}