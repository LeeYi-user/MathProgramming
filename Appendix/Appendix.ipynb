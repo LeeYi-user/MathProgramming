{
  "nbformat": 4,
  "nbformat_minor": 0,
  "metadata": {
    "colab": {
      "name": "Appendix.ipynb",
      "provenance": [],
      "toc_visible": true,
      "include_colab_link": true
    },
    "kernelspec": {
      "display_name": "Python 3",
      "language": "python",
      "name": "python3"
    },
    "language_info": {
      "codemirror_mode": {
        "name": "ipython",
        "version": 3
      },
      "file_extension": ".py",
      "mimetype": "text/x-python",
      "name": "python",
      "nbconvert_exporter": "python",
      "pygments_lexer": "ipython3",
      "version": "3.8.8"
    },
    "accelerator": "GPU"
  },
  "cells": [
    {
      "cell_type": "markdown",
      "metadata": {
        "id": "view-in-github",
        "colab_type": "text"
      },
      "source": [
        "<a href=\"https://colab.research.google.com/github/ccwu0918/MathProgramming/blob/main/Appendix/Appendix.ipynb\" target=\"_parent\"><img src=\"https://colab.research.google.com/assets/colab-badge.svg\" alt=\"Open In Colab\"/></a>"
      ]
    },
    {
      "cell_type": "markdown",
      "metadata": {
        "id": "1Bw9Nb3PifOR"
      },
      "source": [
        "# 附錄_程式設計與數學之間的橋樑\n",
        "在此要介紹的是於學習本書介紹的數學之際，執行必要程式的流程。"
      ]
    },
    {
      "cell_type": "code",
      "metadata": {
        "id": "CzIeEffZikZ7"
      },
      "source": [
        "#Colaboratory環境的設定\n",
        "from google.colab import drive\n",
        "drive.mount('/content/drive')\n",
        "%cd /content/drive/MyDrive/MathProgramming/Appendix"
      ],
      "execution_count": null,
      "outputs": []
    },
    {
      "cell_type": "code",
      "metadata": {
        "id": "5DagVOGnifOY"
      },
      "source": [
        "#函式庫的設定\n",
        "!pip install -q -r ./requirements.txt"
      ],
      "execution_count": null,
      "outputs": []
    },
    {
      "cell_type": "markdown",
      "metadata": {
        "id": "Yxw_mkjRifOY"
      },
      "source": [
        "## A-1 利用公式了解常態分佈"
      ]
    },
    {
      "cell_type": "markdown",
      "metadata": {
        "id": "NanLVKUOifOZ"
      },
      "source": [
        "### 定義機率密度函數"
      ]
    },
    {
      "cell_type": "code",
      "metadata": {
        "id": "VqvQscguifOZ"
      },
      "source": [
        "import math\n",
        "import numpy as np\n",
        "import matplotlib.pyplot as plt\n",
        "\n",
        "# 定義常態分佈\n",
        "def normal_distribution(x,mu,sigma):\n",
        "    y = 1/np.sqrt(2*np.pi*sigma**2)*np.exp(-(x-mu)**2/(2*sigma**2))\n",
        "    return y"
      ],
      "execution_count": null,
      "outputs": []
    },
    {
      "cell_type": "markdown",
      "metadata": {
        "id": "AT9HGwMZifOZ"
      },
      "source": [
        "### 繪製機率密度函數"
      ]
    },
    {
      "cell_type": "code",
      "metadata": {
        "id": "uCVvzA7UifOa"
      },
      "source": [
        "# 設定常態分佈的參數\n",
        "mu = 116.6\n",
        "sigma = 4.8\n",
        "\n",
        "# 設定繪圖參數\n",
        "x_min = 80\n",
        "x_max = 150\n",
        "x_num = 100\n",
        "\n",
        "# 計算常態分佈\n",
        "x = np.linspace(x_min, x_max, x_num)\n",
        "y = normal_distribution(x,mu,sigma)\n",
        "\n",
        "# 繪製常態分佈\n",
        "plt.plot(x, y ,color=\"k\")\n",
        "plt.show()\n",
        "%matplotlib inline"
      ],
      "execution_count": null,
      "outputs": []
    },
    {
      "cell_type": "markdown",
      "metadata": {
        "id": "xB4lTTIaifOa"
      },
      "source": [
        "### 根據機率密度函數的積分導出面積"
      ]
    },
    {
      "cell_type": "code",
      "metadata": {
        "id": "oEvaoMveifOa"
      },
      "source": [
        "# 設定積分範圍\n",
        "x_min = 115\n",
        "x_max = 117\n",
        "x_num = 100\n",
        "\n",
        "# 計算積分範圍之內的常態分佈值\n",
        "x = np.linspace(x_min, x_max, x_num)\n",
        "y = normal_distribution(x,mu,sigma)\n",
        "\n",
        "# 積分的計算\n",
        "dx = (x_max-x_min)/(x_num-1)\n",
        "prob = 0\n",
        "for i in range(x_num):\n",
        "    y = normal_distribution(x[i],mu,sigma)\n",
        "    prob += y*dx\n",
        "print(\"機率:\",prob)"
      ],
      "execution_count": null,
      "outputs": []
    },
    {
      "cell_type": "markdown",
      "metadata": {
        "id": "IXOCOvngifOa"
      },
      "source": [
        "## A-2微分方程式差分法造成的誤差與泰勒展開式"
      ]
    },
    {
      "cell_type": "code",
      "metadata": {
        "id": "KLbBMaMbifOb"
      },
      "source": [
        "from sympy import*\n",
        "import numpy as np\n",
        "from matplotlib import pyplot as plt\n",
        "\n",
        "# 設定參數\n",
        "n = 1     # 次數\n",
        "x0 = 0    # 初始值\n",
        "\n",
        "# 定義符號\n",
        "x = Symbol('x')\n",
        "\n",
        "# 定義函數\n",
        "f = 2 + x + sin(x) + exp(x)/10\n",
        "\n",
        "# 導出泰勒展開式\n",
        "taylor = series(f, x=x, x0=x0, n=n+1).removeO()\n",
        "taylor_y = lambdify(x, taylor, 'numpy')\n",
        "print(\"泰勒展開式\")\n",
        "print(taylor)\n",
        "\n",
        "# 繪製圖表\n",
        "x_theory = np.arange(0.0, 10.0, 0.1)\n",
        "y_theory = 2+x_theory+np.sin(x_theory)+np.exp(x_theory)/10\n",
        "plt.plot(x_theory, y_theory, lw=3, c=\"k\")\n",
        "plt.plot(x_theory, taylor_y(x_theory),c=\"b\")\n",
        "plt.xlim([0,10])"
      ],
      "execution_count": null,
      "outputs": []
    },
    {
      "cell_type": "markdown",
      "metadata": {
        "id": "-MBXPTuLifOb"
      },
      "source": [
        "## 11-3 非線性最佳化的機械學習／深度學習的迴歸／分類"
      ]
    },
    {
      "cell_type": "markdown",
      "metadata": {
        "id": "roDj99d0ifOb"
      },
      "source": [
        "### 定義（非線形最佳化）函數"
      ]
    },
    {
      "cell_type": "code",
      "metadata": {
        "id": "p7Ti2aIuifOb"
      },
      "source": [
        "def function(x):\n",
        "    y = x**2\n",
        "    return y\n",
        "\n",
        "def differential(x,dx):\n",
        "    dy = (function(x+dx)-function(x))/dx\n",
        "    return dy"
      ],
      "execution_count": null,
      "outputs": []
    },
    {
      "cell_type": "markdown",
      "metadata": {
        "id": "CJT5rWgJifOc"
      },
      "source": [
        "### 執行（非線形最佳化）梯度下降法"
      ]
    },
    {
      "cell_type": "code",
      "metadata": {
        "id": "t8HIRdWeifOc"
      },
      "source": [
        "import numpy as np\n",
        "import matplotlib.pyplot as plt\n",
        "from matplotlib import animation, rc\n",
        "from IPython.display import HTML\n",
        "\n",
        "# 產生函數\n",
        "x_list = np.arange(-10, 11)\n",
        "y_list = function(x_list)\n",
        "num = len(x_list)\n",
        "\n",
        "# 設定參數\n",
        "dx = 0.1     # 刻度的寬度（學習率）\n",
        "iter = 200   # 重覆次數\n",
        "\n",
        "# 設定初始值\n",
        "x = -10\n",
        "\n",
        "# 迴圈處理\n",
        "list_plot = []\n",
        "fig = plt.figure()\n",
        "for t in range(iter):\n",
        "    # 導出導函數\n",
        "    dy = differential(x,dx)\n",
        "    # 更新x,y\n",
        "    x = x - np.sign(dy)*dx\n",
        "    y = function(x)\n",
        "    # 繪製圖表\n",
        "    img = plt.plot(x,y,marker='.', color=\"red\",markersize=20)\n",
        "    img += plt.plot(x_list,y_list,color=\"black\")\n",
        "    list_plot.append(img)\n",
        "\n",
        "# 繪製圖表（動畫）\n",
        "plt.grid()\n",
        "anim = animation.ArtistAnimation(fig, list_plot, interval=200, repeat_delay=100)\n",
        "rc('animation', html='jshtml')\n",
        "plt.close()\n",
        "anim"
      ],
      "execution_count": null,
      "outputs": []
    },
    {
      "cell_type": "markdown",
      "metadata": {
        "id": "x2pYeex2ifOc"
      },
      "source": [
        "### （非線形最適化）処理部のみ実行"
      ]
    },
    {
      "cell_type": "code",
      "metadata": {
        "id": "SJQsKfghifOd"
      },
      "source": [
        "import numpy as np\n",
        "import matplotlib.pyplot as plt\n",
        "\n",
        "# 設定參數\n",
        "delta = 0.01     # 刻度的寬度（學習率）\n",
        "iter = 200       # 重覆次數\n",
        "\n",
        "# 設定初始值\n",
        "x = -10\n",
        "\n",
        "# 迴圈處理\n",
        "list_plot = []\n",
        "series_y = []\n",
        "fig = plt.figure()\n",
        "for t in range(iter):\n",
        "    # 導出導函數\n",
        "    dy = differential(x,dx)\n",
        "    # 更新x,y\n",
        "    x = x - delta*dy\n",
        "    y = function(x)\n",
        "    series_y.append(y)\n",
        "\n",
        "# 繪製圖表\n",
        "plt.plot(series_y,c=\"k\")"
      ],
      "execution_count": null,
      "outputs": []
    },
    {
      "cell_type": "markdown",
      "metadata": {
        "id": "yC1z0eZ-ifOd"
      },
      "source": [
        "### 定義（迴歸分析）函數"
      ]
    },
    {
      "cell_type": "code",
      "metadata": {
        "id": "PLS1m2JKifOd"
      },
      "source": [
        "def function(X,y,alpha,beta):\n",
        "    cost = (1/(2*m))*np.sum((beta+alpha*X-y)**2)\n",
        "    return cost\n",
        "\n",
        "def differential_alpha(X,y,alpha,beta,delta):\n",
        "    d_cost = (function(X,y,alpha+delta,beta)-function(X,y,alpha,beta))/delta\n",
        "    return d_cost\n",
        "\n",
        "def differential_beta(X,y,alpha,beta,delta):\n",
        "    d_cost = (function(X,y,alpha,beta+delta)-function(X,y,alpha,beta))/delta\n",
        "    return d_cost"
      ],
      "execution_count": null,
      "outputs": []
    },
    {
      "cell_type": "markdown",
      "metadata": {
        "id": "Q2pxbd-jifOd"
      },
      "source": [
        "### 載入（迴歸分析）資料"
      ]
    },
    {
      "cell_type": "code",
      "metadata": {
        "id": "YUg6y8SwifOe"
      },
      "source": [
        "import numpy as np\n",
        "import matplotlib.pyplot as plt\n",
        "import pandas as pd\n",
        "\n",
        "# 載入資料\n",
        "df_sample = pd.read_csv(\"sample_linear.csv\")\n",
        "sample = df_sample.values.T\n",
        "\n",
        "# 設定變數\n",
        "X = sample[0]\n",
        "y = sample[1]"
      ],
      "execution_count": null,
      "outputs": []
    },
    {
      "cell_type": "markdown",
      "metadata": {
        "id": "dnpxkKoKifOe"
      },
      "source": [
        "### 執行（迴歸分析）梯度下降法"
      ]
    },
    {
      "cell_type": "code",
      "metadata": {
        "id": "5n3D2E8YifOe"
      },
      "source": [
        "# 設定參數\n",
        "delta = 0.001     # 刻度的寬度（學習率）\n",
        "iter = 20000      # 重覆次數\n",
        "\n",
        "# 設定初始值\n",
        "alpha = 1\n",
        "beta = 1\n",
        "\n",
        "# 迴圈處理\n",
        "cost = np.zeros(iter)\n",
        "da = np.zeros(iter)\n",
        "m = len(y)\n",
        "for i in range(iter):\n",
        "\n",
        "    # 導出導函數\n",
        "    d_alpha = differential_alpha(X,y,alpha,beta,delta)\n",
        "    d_beta = differential_beta(X,y,alpha,beta,delta)\n",
        "\n",
        "    # 更新alpha, beta, cost\n",
        "    alpha = alpha - delta*d_alpha\n",
        "    beta = beta - delta*d_beta\n",
        "    cost[i] = function(X,y,alpha,beta)\n",
        "    da[i] = alpha\n",
        "\n",
        "# 繪製圖表\n",
        "plt.plot(da,c=\"k\")"
      ],
      "execution_count": null,
      "outputs": []
    },
    {
      "cell_type": "markdown",
      "metadata": {
        "id": "aVlAxF3-ifOe"
      },
      "source": [
        "### 繪製（迴歸分析）最小平方法的結果"
      ]
    },
    {
      "cell_type": "code",
      "metadata": {
        "id": "sfjXmNsXifOe"
      },
      "source": [
        "plt.scatter(sample[0],sample[1],c=\"k\")\n",
        "plt.plot(X,beta+alpha*X,color=\"red\")\n",
        "plt.show()"
      ],
      "execution_count": null,
      "outputs": []
    },
    {
      "cell_type": "code",
      "metadata": {
        "id": "lw3ut8ufzqIO"
      },
      "source": [],
      "execution_count": null,
      "outputs": []
    }
  ]
}