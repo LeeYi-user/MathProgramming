{
  "nbformat": 4,
  "nbformat_minor": 0,
  "metadata": {
    "colab": {
      "name": "Chapter6.ipynb",
      "provenance": [],
      "toc_visible": true,
      "include_colab_link": true
    },
    "kernelspec": {
      "display_name": "Python 3",
      "language": "python",
      "name": "python3"
    },
    "language_info": {
      "codemirror_mode": {
        "name": "ipython",
        "version": 3
      },
      "file_extension": ".py",
      "mimetype": "text/x-python",
      "name": "python",
      "nbconvert_exporter": "python",
      "pygments_lexer": "ipython3",
      "version": "3.8.8"
    }
  },
  "cells": [
    {
      "cell_type": "markdown",
      "metadata": {
        "id": "view-in-github",
        "colab_type": "text"
      },
      "source": [
        "<a href=\"https://colab.research.google.com/github/ccwu0918/MathProgramming/blob/main/Chapter6/Chapter6.ipynb\" target=\"_parent\"><img src=\"https://colab.research.google.com/assets/colab-badge.svg\" alt=\"Open In Colab\"/></a>"
      ]
    },
    {
      "cell_type": "markdown",
      "metadata": {
        "id": "-cZ1vYzdVzhl"
      },
      "source": [
        "# 第6章 試著預測傳染病的影響\n",
        "\n",
        "為了學習數值模擬的相關知識，本章要試著執行必要的程式，從中學習執行這些程式的過程。  "
      ]
    },
    {
      "cell_type": "code",
      "metadata": {
        "id": "SAA9v1QwV0Ki"
      },
      "source": [
        "#Colaboratory環境的設定\n",
        "from google.colab import drive\n",
        "drive.mount('/content/drive')\n",
        "%cd /content/drive/MyDrive/MathProgramming/Chapter6"
      ],
      "execution_count": null,
      "outputs": []
    },
    {
      "cell_type": "code",
      "metadata": {
        "id": "UEsP9EiBQjAu"
      },
      "source": [
        "#設定函式庫\n",
        "!pip install -q -r ./requirements.txt"
      ],
      "execution_count": null,
      "outputs": []
    },
    {
      "cell_type": "markdown",
      "metadata": {
        "id": "kE66rVnwVzhr"
      },
      "source": [
        "## 6-1. 了解傳染病模型的輪廓"
      ]
    },
    {
      "cell_type": "code",
      "metadata": {
        "id": "IrWlY_z4Vzhs"
      },
      "source": [
        "%matplotlib inline\n",
        "import numpy as np\n",
        "import matplotlib.pyplot as plt\n",
        "\n",
        "# 設定參數\n",
        "dt = 1.0\n",
        "beta=0.000003\n",
        "gamma=0.1\n",
        "S=200000\n",
        "I=2\n",
        "R=0\n",
        "alpha=I/(S+I+R)\n",
        "num = 100\n",
        "\n",
        "# 初始化（設定初始值）\n",
        "inf = np.zeros(num)\n",
        "sus = np.zeros(num)\n",
        "rec = np.zeros(num)\n",
        "inf[0] = I\n",
        "sus[0] = S\n",
        "rec[0] = R\n",
        "\n",
        "# 時間發展方程式\n",
        "for t in range(1,num):\n",
        "    # 計算時間t-1至t的變化量\n",
        "    S = sus[t-1]\n",
        "    I = inf[t-1]\n",
        "    R = rec[t-1]\n",
        "    alpha=I/(S+I+R)\n",
        "    delta_R=I*gamma\n",
        "    delta_S=-beta*S*I\n",
        "    if delta_S>0:\n",
        "        delta_S=0\n",
        "    delta_I = -delta_S-delta_R\n",
        "    # 計算時間t的值\n",
        "    I = I + delta_I*dt\n",
        "    R = R + delta_R*dt\n",
        "    S = S + delta_S*dt\n",
        "    if S<0:\n",
        "        S=0\n",
        "    sus[t] = S\n",
        "    inf[t] = I\n",
        "    rec[t] = R\n",
        "\n",
        "# 繪製圖表\n",
        "plt.figure(figsize=(16,6))\n",
        "plt.subplot(1,2,1)\n",
        "plt.plot(sus,label=\"S(susceptible)\",color=\"orange\")\n",
        "plt.plot(inf,label=\"I(infection)\",color=\"blue\")\n",
        "plt.plot(rec,label=\"R(recover)\",color=\"green\")\n",
        "plt.legend()\n",
        "plt.subplot(1,2,2)\n",
        "plt.plot(inf,label=\"I(infection)\",color=\"blue\")\n",
        "plt.legend()"
      ],
      "execution_count": null,
      "outputs": []
    },
    {
      "cell_type": "markdown",
      "metadata": {
        "id": "OoClMfyjVzht"
      },
      "source": [
        "## 6-2. 用於了解傳染病模型的幾何級數\n",
        "要了解6-3「調整幾何級數的參數，直觀了解微分方程式」的時候，也可以使用下列的程式碼。"
      ]
    },
    {
      "cell_type": "markdown",
      "metadata": {
        "id": "YtMxtb0eVzht"
      },
      "source": [
        "### 時間軸推移"
      ]
    },
    {
      "cell_type": "code",
      "metadata": {
        "id": "suryKqN5Vzht"
      },
      "source": [
        "%matplotlib inline\n",
        "import numpy as np\n",
        "import matplotlib.pyplot as plt\n",
        "\n",
        "# 設定參數\n",
        "dt = 1.0\n",
        "a = 1.0\n",
        "num = 10\n",
        "\n",
        "# 初始化（設定初始值）\n",
        "n = np.zeros(num)\n",
        "n[0] = 2.0\n",
        "\n",
        "# 時間發展方程式\n",
        "for t in range(1,num):\n",
        "    delta = a*n[t-1]\n",
        "    n[t] = delta*dt + n[t-1]\n",
        "\n",
        "# 繪製圖表\n",
        "plt.plot(n)\n",
        "plt.show()"
      ],
      "execution_count": null,
      "outputs": []
    },
    {
      "cell_type": "markdown",
      "metadata": {
        "id": "PJQ7oVjBUeF1"
      },
      "source": [
        "### 個體數增減的情況"
      ]
    },
    {
      "cell_type": "code",
      "metadata": {
        "id": "ileYvjJKVzhu"
      },
      "source": [
        "import numpy as np\n",
        "import matplotlib.pyplot as plt\n",
        "from matplotlib import animation, rc\n",
        "from IPython.display import HTML\n",
        "\n",
        "# 設定參數\n",
        "dt = 1.0\n",
        "a = 1.0\n",
        "num = 10\n",
        "x_size = 8.0\n",
        "y_size = 6.0\n",
        "\n",
        "# 初始化（設定初始值）\n",
        "n = np.zeros(num)\n",
        "n[0] = 2\n",
        "list_plot = []\n",
        "\n",
        "# 時間發展方程式\n",
        "fig = plt.figure()\n",
        "\n",
        "for t in range(1,num):\n",
        "    delta = a*n[t-1]\n",
        "    n[t] = delta*dt + n[t-1]\n",
        "    x_n = np.random.rand(int(n[t]))*x_size\n",
        "    y_n = np.random.rand(int(n[t]))*y_size\n",
        "    img = plt.scatter(x_n,y_n,color=\"black\")\n",
        "    list_plot.append([img])\n",
        "\n",
        "# 繪製圖表（動畫）\n",
        "plt.grid()\n",
        "anim = animation.ArtistAnimation(fig, list_plot, interval=200, repeat_delay=1000)\n",
        "rc('animation', html='jshtml')\n",
        "plt.close()\n",
        "anim"
      ],
      "execution_count": null,
      "outputs": []
    },
    {
      "cell_type": "markdown",
      "metadata": {
        "id": "37xTLwteVzhu"
      },
      "source": [
        "## 6-4. 說明實際的生物或社會現象的邏輯方程式\n",
        "閱讀6-5「調整邏輯方程式的參數，直覺了解微分方程式」的時候，也可使用這段程式碼。"
      ]
    },
    {
      "cell_type": "markdown",
      "metadata": {
        "id": "hXL_K8muVzhu"
      },
      "source": [
        "### 時間軸推移"
      ]
    },
    {
      "cell_type": "code",
      "metadata": {
        "id": "tso5qyaGVzhv"
      },
      "source": [
        "%matplotlib inline\n",
        "import numpy as np\n",
        "import matplotlib.pyplot as plt\n",
        "\n",
        "# 設定參數\n",
        "dt = 1.0\n",
        "a = 1.2\n",
        "capacity = 100\n",
        "num = 20\n",
        "\n",
        "# 初始化（設定初始值）\n",
        "n = np.zeros(num)\n",
        "n[0] = 2\n",
        "\n",
        "# 時間發展方程式\n",
        "for t in range(1,num):\n",
        "    delta = int(a*n[t-1]*(1-n[t-1]/capacity))\n",
        "    n[t] = delta*dt + n[t-1]\n",
        "plt.plot(n)\n",
        "plt.show()"
      ],
      "execution_count": null,
      "outputs": []
    },
    {
      "cell_type": "markdown",
      "metadata": {
        "id": "FWyCvWWFVzhv"
      },
      "source": [
        "### 個體數增減的情況"
      ]
    },
    {
      "cell_type": "code",
      "metadata": {
        "id": "SD-JiXH7Vzhv"
      },
      "source": [
        "import numpy as np\n",
        "import matplotlib.pyplot as plt\n",
        "from matplotlib import animation, rc\n",
        "from IPython.display import HTML\n",
        "\n",
        "# 設定參數\n",
        "dt = 1.0\n",
        "a = 1.2\n",
        "capacity = 100\n",
        "num = 20\n",
        "x_size = 8.0\n",
        "y_size = 6.0\n",
        "\n",
        "# 初始化（設定初始值）\n",
        "n = np.zeros(num)\n",
        "n[0] = 2\n",
        "list_plot = []\n",
        "\n",
        "# 時間發展方程式\n",
        "fig = plt.figure()\n",
        "for t in range(1,num):\n",
        "    delta = int(a*n[t-1]*(1-n[t-1]/capacity))\n",
        "    n[t] = delta*dt + n[t-1]\n",
        "    x_n = np.random.rand(int(n[t]))*x_size\n",
        "    y_n = np.random.rand(int(n[t]))*y_size\n",
        "    img = plt.scatter(x_n,y_n,color=\"black\")\n",
        "    list_plot.append([img])\n",
        "\n",
        "# 繪製圖表（動畫）\n",
        "plt.grid()\n",
        "anim = animation.ArtistAnimation(fig, list_plot, interval=200, repeat_delay=1000)\n",
        "rc('animation', html='jshtml')\n",
        "plt.close()\n",
        "anim"
      ],
      "execution_count": null,
      "outputs": []
    },
    {
      "cell_type": "markdown",
      "metadata": {
        "id": "DoOEMX6PVzhv"
      },
      "source": [
        "說明生物或公司互相競爭的羅特卡弗爾特拉方程式（競爭方程式）\n",
        "閱讀6-7「調整羅特卡弗爾特拉方程式（競爭方程式）的參數，直觀了解微分方程式」的時候，也可以使用下面這段程式碼。"
      ]
    },
    {
      "cell_type": "markdown",
      "metadata": {
        "id": "apPphMWLVzhw"
      },
      "source": [
        "### 時間軸推移"
      ]
    },
    {
      "cell_type": "code",
      "metadata": {
        "id": "M3Zh8AIgVzhw"
      },
      "source": [
        "%matplotlib inline\n",
        "import numpy as np\n",
        "import matplotlib.pyplot as plt\n",
        "\n",
        "# 設定參數\n",
        "dt = 1.0\n",
        "r1 = 1\n",
        "K1 = 110\n",
        "a = 0.1\n",
        "r2 = 1\n",
        "K2 = 80\n",
        "b = 1.1\n",
        "num = 10\n",
        "\n",
        "# 初始化（設定初始值）\n",
        "n1 = np.zeros(num)\n",
        "n2 = np.zeros(num)\n",
        "n1[0] = 2\n",
        "n2[0] = 2\n",
        "\n",
        "# 時間發展方程式\n",
        "for t in range(1,num):\n",
        "    delta_n1 = int(r1*n1[t-1]*(1-(n1[t-1]+a*n2[t-1])/K1))\n",
        "    n1[t] = delta_n1*dt + n1[t-1]\n",
        "    delta_n2 = int(r2*n2[t-1]*(1-(n2[t-1]+b*n1[t-1])/K2))\n",
        "    n2[t] = delta_n2*dt + n2[t-1]\n",
        "\n",
        "plt.plot(n1,label='n1')\n",
        "plt.plot(n2,label='n2')\n",
        "plt.legend()\n",
        "plt.show()"
      ],
      "execution_count": null,
      "outputs": []
    },
    {
      "cell_type": "markdown",
      "metadata": {
        "id": "jJre-Kz1Vzhw"
      },
      "source": [
        "### 個體數增減的情況"
      ]
    },
    {
      "cell_type": "code",
      "metadata": {
        "id": "0jaNyIkTVzhw"
      },
      "source": [
        "import numpy as np\n",
        "import matplotlib.pyplot as plt\n",
        "from matplotlib import animation, rc\n",
        "from IPython.display import HTML\n",
        "\n",
        "# 設定參數\n",
        "dt = 1.0\n",
        "r1 = 1\n",
        "K1 = 110\n",
        "a = 0.1\n",
        "r2 = 1\n",
        "K2 = 80\n",
        "b = 1.1\n",
        "num = 10\n",
        "x_size = 8.0\n",
        "y_size = 6.0\n",
        "\n",
        "# 初始化（設定初始值）\n",
        "n1 = np.zeros(num)\n",
        "n2 = np.zeros(num)\n",
        "n1[0] = 2\n",
        "n2[0] = 2\n",
        "list_plot = []\n",
        "\n",
        "# 時間發展方程式\n",
        "fig = plt.figure()\n",
        "for t in range(1,num):\n",
        "    delta_n1 = int(r1*n1[t-1]*(1-(n1[t-1]+a*n2[t-1])/K1))\n",
        "    n1[t] = delta_n1*dt + n1[t-1]\n",
        "    delta_n2 = int(r2*n2[t-1]*(1-(n2[t-1]+b*n1[t-1])/K2))\n",
        "    n2[t] = delta_n2*dt + n2[t-1]\n",
        "    x_n1 = np.random.rand(int(n1[t]))*x_size\n",
        "    y_n1 = np.random.rand(int(n1[t]))*y_size\n",
        "    img = [plt.scatter(x_n1,y_n1,color=\"blue\")]\n",
        "    x_n2 = np.random.rand(int(n2[t]))*x_size\n",
        "    y_n2 = np.random.rand(int(n2[t]))*y_size\n",
        "    img += [plt.scatter(x_n2,y_n2,color=\"red\")]\n",
        "    list_plot.append(img)\n",
        "\n",
        "# 繪製圖表（動畫）\n",
        "plt.grid()\n",
        "anim = animation.ArtistAnimation(fig, list_plot, interval=200, repeat_delay=1000)\n",
        "rc('animation', html='jshtml')\n",
        "plt.close()\n",
        "anim"
      ],
      "execution_count": null,
      "outputs": []
    },
    {
      "cell_type": "markdown",
      "metadata": {
        "id": "VpoBaDJdVzhx"
      },
      "source": [
        "## 6-8. 說明生物或公司互相競爭的羅特卡弗爾特拉方程式（掠食方程式）\n",
        "閱讀6-9「調整羅特卡弗爾特拉方程式（掠食方程式）的參數，直觀了解微分方程式」的時候，可使用下列的程式碼。"
      ]
    },
    {
      "cell_type": "markdown",
      "metadata": {
        "id": "BTifo9bKVzhx"
      },
      "source": [
        "### 時間軸推移"
      ]
    },
    {
      "cell_type": "code",
      "metadata": {
        "id": "iF60XT7KVzhx"
      },
      "source": [
        "%matplotlib inline\n",
        "import numpy as np\n",
        "import matplotlib.pyplot as plt\n",
        "\n",
        "# 設定參數\n",
        "dt = 0.01\n",
        "alpha = 0.2\n",
        "beta = 0.4\n",
        "gamma = 0.3\n",
        "delta = 0.3\n",
        "num = 10000\n",
        "\n",
        "# 初始化（設定初始值）\n",
        "n1 = np.zeros(num)\n",
        "n2 = np.zeros(num)\n",
        "t = np.zeros(num)\n",
        "n1[0] = 0.3\n",
        "n2[0] = 0.7\n",
        "\n",
        "# 時間發展方程式\n",
        "for i in range(1,num):\n",
        "    t[i] = i*dt\n",
        "    delta_n1 = n1[i-1]*(alpha-beta*n2[i-1])\n",
        "    delta_n2 = -n2[i-1]*(gamma-delta*n1[i-1])\n",
        "    n1[i] = delta_n1*dt + n1[i-1]\n",
        "    n2[i] = delta_n2*dt + n2[i-1]\n",
        "\n",
        "plt.plot(n1,label='n1')\n",
        "plt.plot(n2,label='n2')\n",
        "plt.legend()\n",
        "plt.show()"
      ],
      "execution_count": null,
      "outputs": []
    },
    {
      "cell_type": "markdown",
      "metadata": {
        "id": "wjPfI51pVzhx"
      },
      "source": [
        "## 6-10  一邊複習微分方程式，一邊思考電影或商品的熱銷程度"
      ]
    },
    {
      "cell_type": "code",
      "metadata": {
        "id": "L9vM0WFRVzhx"
      },
      "source": [
        "%matplotlib inline\n",
        "import numpy as np\n",
        "import matplotlib.pyplot as plt\n",
        "\n",
        "# 設定參數\n",
        "dt = 1.0\n",
        "D = 1.0\n",
        "a = 1.2\n",
        "P = 0.0001\n",
        "C = 10\n",
        "num = 100\n",
        "\n",
        "# 初始化（設定初始值）\n",
        "I = np.zeros(num)\n",
        "A = np.zeros(num)\n",
        "I[0] = 10.0\n",
        "A[10] = 100.0\n",
        "A[15] = 100.0\n",
        "\n",
        "# 時間發展方程式\n",
        "for t in range(1,num):\n",
        "    delta_I = (D-a)*I[t-1] + P*I[t-1]**2 + C*A[t-1]\n",
        "    I[t] = delta_I*dt + I[t-1]\n",
        "# 繪製圖表\n",
        "plt.plot(I)\n",
        "plt.show()"
      ],
      "execution_count": null,
      "outputs": []
    },
    {
      "cell_type": "code",
      "metadata": {
        "id": "rzS0GW3e-WyY"
      },
      "source": [],
      "execution_count": null,
      "outputs": []
    }
  ]
}